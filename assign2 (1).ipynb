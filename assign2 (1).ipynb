{
 "cells": [
  {
   "cell_type": "code",
   "execution_count": null,
   "id": "83309c42-8728-414c-af24-cfd9b24ba32f",
   "metadata": {},
   "outputs": [],
   "source": [
    "4. rite a python program to create two threads. Thread one must print the list of squares and thread\n",
    "two must print the list of cubes"
   ]
  },
  {
   "cell_type": "code",
   "execution_count": null,
   "id": "b02f0920-7a39-4d64-a42a-e01fe06ca43e",
   "metadata": {},
   "outputs": [],
   "source": [
    "import threading\n",
    "def square(n,a):\n",
    "    a[n]=a[n]**2\n",
    "def cube(n,b):\n",
    "    b[n]=b[n]**3\n",
    "\n",
    "    \n",
    "a=[1,2,3]    \n",
    "b=[1,2,3]\n",
    "thread=[threading.Thread(target=square,args=(j,a)) for j in range(3)]\n",
    "thread1=[threading.Thread(target=cube, args=(k,b))for k in range(3)]\n",
    "for j in thread:\n",
    "    j.start()\n",
    "for j in thread1:\n",
    "    j.start()\n",
    "print(a)\n",
    "print(b)"
   ]
  },
  {
   "cell_type": "code",
   "execution_count": null,
   "id": "6dd921c6-00b0-482e-a774-30fcc2d3cb61",
   "metadata": {},
   "outputs": [],
   "source": [
    "what is multithreading in python? hy is it used? Name the module used to handle threads in python"
   ]
  },
  {
   "cell_type": "code",
   "execution_count": null,
   "id": "dc7c0cf5-fe27-4478-933f-481cfaa7e294",
   "metadata": {},
   "outputs": [],
   "source": [
    "1. Multithreading in Python\n",
    "Multithreading in Python refers to the capability of a program to run multiple threads concurrently within a single process. Threads are lightweight, independent units of execution that can perform tasks simultaneously, making efficient use of CPU resources.\n",
    "\n",
    "Why is it used?\n",
    "Multithreading is used to achieve concurrency, allowing different parts of a program to execute independently. \n",
    "It's particularly useful for tasks that involve I/O operations (like reading/writing files or network operations), where threads can run concurrently while waiting for I/O to complete."
   ]
  },
  {
   "cell_type": "code",
   "execution_count": null,
   "id": "41cdc9f3-a9fd-4026-84d6-018721c61773",
   "metadata": {},
   "outputs": [],
   "source": [
    ". hy threading module used? rite the use of the following functions\n",
    "( activeCount\n",
    " currentThread\n",
    " enumerate)"
   ]
  },
  {
   "cell_type": "code",
   "execution_count": null,
   "id": "2e5e6649-e660-4243-92d2-c30dddff4772",
   "metadata": {},
   "outputs": [],
   "source": [
    "The module used to handle threads in Python is called threading.\n",
    "\n",
    "2. Functions in the threading module:\n",
    "activeCount(): Returns the number of Thread objects currently alive.\n",
    "currentThread(): Returns the current Thread object.\n",
    "enumerate(): Returns a list of all Thread objects currently alive.\n",
    "3. Thread-related functions:\n",
    "run(): Defines the code to be executed by a thread when start() is called.\n",
    "start(): Starts the thread's activity by calling its run() method.\n",
    "join(): Waits for the thread to complete its execution.\n",
    "isAlive(): Returns True if the thread is alive (has been started and has not yet terminated)."
   ]
  },
  {
   "cell_type": "code",
   "execution_count": null,
   "id": "71c8ea9e-de39-4f19-b942-c77bbb92b07a",
   "metadata": {},
   "outputs": [],
   "source": [
    "5. State advantages and disadvantages of multithreading"
   ]
  },
  {
   "cell_type": "code",
   "execution_count": null,
   "id": "68fd2a6c-105f-49c1-a16d-c8a3874f6eef",
   "metadata": {},
   "outputs": [],
   "source": [
    "Advantages:\n",
    "\n",
    "Improved responsiveness: Allows a program to remain responsive to user interaction while performing other tasks in the background.\n",
    "Efficient use of resources: Threads share the same memory space, reducing memory overhead compared to multiprocessing.\n",
    "Simplified program structure: Useful for I/O-bound tasks where threads can wait for I/O operations without blocking other threads.\n",
    "Disadvantages:\n",
    "\n",
    "Complexity: Synchronization between threads to avoid race conditions and deadlocks can be complex and error-prone.\n",
    "Global Interpreter Lock (GIL): In CPython, the GIL limits multithreading performance for CPU-bound tasks since only one thread can execute Python bytecode at a time."
   ]
  },
  {
   "cell_type": "code",
   "execution_count": null,
   "id": "8f679137-dd06-4acf-ba7c-f2eff3619626",
   "metadata": {},
   "outputs": [],
   "source": [
    "6. Explain deadlocks and race conditions."
   ]
  },
  {
   "cell_type": "code",
   "execution_count": null,
   "id": "3ffa3a1e-9851-4111-ba48-7b06b5f1bae4",
   "metadata": {},
   "outputs": [],
   "source": [
    "Deadlock: Occurs when two or more threads are blocked forever, waiting for each other to release resources that they need. This typically happens when there's a circular dependency of locks between threads.\n",
    "\n",
    "Race Condition: Occurs when the behavior of a program depends on the sequence or timing of the execution of multiple threads. It leads to unpredictable outcomes when multiple threads access shared resources without proper synchronization."
   ]
  },
  {
   "cell_type": "code",
   "execution_count": null,
   "id": "981afc22-16c6-4314-a963-f13a7d2d56d8",
   "metadata": {},
   "outputs": [],
   "source": []
  },
  {
   "cell_type": "code",
   "execution_count": null,
   "id": "918c0590-b633-48be-900d-0ea67dc862f0",
   "metadata": {},
   "outputs": [],
   "source": []
  },
  {
   "cell_type": "code",
   "execution_count": null,
   "id": "df817cf0-3082-4821-ad6c-e92fd75ce18a",
   "metadata": {},
   "outputs": [],
   "source": []
  },
  {
   "cell_type": "code",
   "execution_count": null,
   "id": "76bb8f27-ee3b-4f79-bbb7-eaab29b37b93",
   "metadata": {},
   "outputs": [],
   "source": []
  }
 ],
 "metadata": {
  "kernelspec": {
   "display_name": "Python 3 (ipykernel)",
   "language": "python",
   "name": "python3"
  },
  "language_info": {
   "codemirror_mode": {
    "name": "ipython",
    "version": 3
   },
   "file_extension": ".py",
   "mimetype": "text/x-python",
   "name": "python",
   "nbconvert_exporter": "python",
   "pygments_lexer": "ipython3",
   "version": "3.10.8"
  }
 },
 "nbformat": 4,
 "nbformat_minor": 5
}
