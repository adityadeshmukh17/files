{
 "cells": [
  {
   "cell_type": "code",
   "execution_count": null,
   "id": "c0e136ed-d131-4f88-b97a-74dc4c7ed6c6",
   "metadata": {},
   "outputs": [],
   "source": [
    "Q6. Write a python program to create 4 processes, each process should print a different number using the\n",
    "multiprocessing module in python."
   ]
  },
  {
   "cell_type": "code",
   "execution_count": 1,
   "id": "4d778033-5def-4878-8fcb-4286833495cb",
   "metadata": {},
   "outputs": [
    {
     "name": "stdout",
     "output_type": "stream",
     "text": [
      "[2, 3, 4, 5]\n"
     ]
    }
   ],
   "source": [
    "import multiprocessing\n",
    "def display(n):\n",
    "    return n+1\n",
    "if __name__=='__main__':\n",
    "    with multiprocessing.Pool(processes=4) as pool:\n",
    "        out=pool.map(display,[1,2,3,4])\n",
    "        print(out)"
   ]
  },
  {
   "cell_type": "code",
   "execution_count": null,
   "id": "dca72c6e-5856-459e-842e-f7ec4266df88",
   "metadata": {},
   "outputs": [],
   "source": [
    "Q3. Write a python code to create a process using the multiprocessing module."
   ]
  },
  {
   "cell_type": "code",
   "execution_count": 11,
   "id": "b1160f46-c148-4a07-86d8-d561efe970b7",
   "metadata": {},
   "outputs": [
    {
     "name": "stdout",
     "output_type": "stream",
     "text": [
      "144\n",
      "9\n"
     ]
    }
   ],
   "source": [
    "import multiprocessing\n",
    "def square(n):\n",
    "        for j in n:\n",
    "            print(j**2)\n",
    "if __name__=='__main__':\n",
    "    d=[12,3]\n",
    "    x=multiprocessing.Process(target=square,args=(d,))\n",
    "    x.start()\n",
    "    x.join()"
   ]
  },
  {
   "cell_type": "code",
   "execution_count": null,
   "id": "4defd2d7-3a8e-4f51-828a-fe15e4430b6e",
   "metadata": {},
   "outputs": [],
   "source": [
    "Q1. What is multiprocessing in python? Why is it useful?"
   ]
  },
  {
   "cell_type": "code",
   "execution_count": null,
   "id": "3d99a6c4-269d-4328-bd21-62d477806bad",
   "metadata": {},
   "outputs": [],
   "source": [
    "Multiprocessing in Python allows a program to run multiple tasks at the same time using different CPU cores.\n",
    "It's useful because it can make programs run faster by using more of the computer's processing power, especially for tasks that need a lot of computation. It also avoids the limitations of Python's Global Interpreter Lock (GIL), which can slow down multi-threaded programs."
   ]
  },
  {
   "cell_type": "code",
   "execution_count": null,
   "id": "95999f20-a64d-44f8-b2a2-78f00077ca24",
   "metadata": {},
   "outputs": [],
   "source": [
    "Q2. What are the differences between multiprocessing and multithreading?"
   ]
  },
  {
   "cell_type": "code",
   "execution_count": null,
   "id": "acf504a7-2641-4a36-90be-83c8160a3896",
   "metadata": {},
   "outputs": [],
   "source": [
    "Multiprocessing:\n",
    "\n",
    "Runs multiple processes on different CPU cores.\n",
    "Each process has its own memory space.\n",
    "Good for CPU-bound tasks.\n",
    "Multithreading:\n",
    "\n",
    "Runs multiple threads within the same process.\n",
    "Threads share the same memory space.\n",
    "Good for I/O-bound tasks."
   ]
  },
  {
   "cell_type": "code",
   "execution_count": null,
   "id": "4d52b17c-8ed5-4e1f-b2b9-89d087bc36ff",
   "metadata": {},
   "outputs": [],
   "source": [
    "Q4. What is a multiprocessing pool in python? Why is it used?"
   ]
  },
  {
   "cell_type": "code",
   "execution_count": null,
   "id": "780a282e-1937-4de9-aa96-0cb8a66871eb",
   "metadata": {},
   "outputs": [],
   "source": []
  },
  {
   "cell_type": "code",
   "execution_count": null,
   "id": "d71023e0-79e4-4a7b-9f44-872847f165ee",
   "metadata": {},
   "outputs": [],
   "source": [
    "Q5. How can we create a pool of worker processes in python using the multiprocessing module?"
   ]
  },
  {
   "cell_type": "code",
   "execution_count": null,
   "id": "34aa1d3a-8387-4460-9bf4-9df00bdde24f",
   "metadata": {},
   "outputs": [],
   "source": []
  }
 ],
 "metadata": {
  "kernelspec": {
   "display_name": "Python 3 (ipykernel)",
   "language": "python",
   "name": "python3"
  },
  "language_info": {
   "codemirror_mode": {
    "name": "ipython",
    "version": 3
   },
   "file_extension": ".py",
   "mimetype": "text/x-python",
   "name": "python",
   "nbconvert_exporter": "python",
   "pygments_lexer": "ipython3",
   "version": "3.10.8"
  }
 },
 "nbformat": 4,
 "nbformat_minor": 5
}
